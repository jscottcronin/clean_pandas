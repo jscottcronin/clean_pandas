{
 "cells": [
  {
   "cell_type": "code",
   "execution_count": 13,
   "metadata": {
    "collapsed": false
   },
   "outputs": [],
   "source": [
    "import pandas as pd\n",
    "import numpy as np\n",
    "import json\n",
    "import glob\n",
    "from geopy.distance import vincenty as distance\n",
    "import matplotlib.pyplot as plt\n",
    "import seaborn as sns\n",
    "from IPython.display import display\n",
    "\n",
    "sns.set_context('notebook', font_scale=1.6)\n",
    "%matplotlib inline"
   ]
  },
  {
   "cell_type": "markdown",
   "metadata": {},
   "source": [
    "# Goals\n",
    "\n",
    "1. Introduce concept of chained operations\n",
    "2. Best methods in chained operations:\n",
    "    * query\n",
    "    * assign\n",
    "    * pipe"
   ]
  },
  {
   "cell_type": "markdown",
   "metadata": {},
   "source": [
    "# Load the data"
   ]
  },
  {
   "cell_type": "code",
   "execution_count": 20,
   "metadata": {
    "collapsed": false
   },
   "outputs": [
    {
     "name": "stdout",
     "output_type": "stream",
     "text": [
      "<class 'pandas.core.frame.DataFrame'>\n",
      "RangeIndex: 231635 entries, 0 to 231634\n",
      "Data columns (total 12 columns):\n",
      "trip_id              231635 non-null int64\n",
      "starttime            231635 non-null datetime64[ns]\n",
      "stoptime             231635 non-null object\n",
      "bikeid               231635 non-null int64\n",
      "tripduration         231635 non-null int64\n",
      "from_station_id      231635 non-null int64\n",
      "from_station_name    231635 non-null object\n",
      "to_station_id        231635 non-null int64\n",
      "to_station_name      231635 non-null object\n",
      "usertype             231635 non-null object\n",
      "gender               182217 non-null object\n",
      "birthyear            182243 non-null float64\n",
      "dtypes: datetime64[ns](1), float64(1), int64(5), object(5)\n",
      "memory usage: 21.2+ MB\n",
      "None\n"
     ]
    },
    {
     "data": {
      "text/html": [
       "<div>\n",
       "<table border=\"1\" class=\"dataframe\">\n",
       "  <thead>\n",
       "    <tr style=\"text-align: right;\">\n",
       "      <th></th>\n",
       "      <th>trip_id</th>\n",
       "      <th>starttime</th>\n",
       "      <th>stoptime</th>\n",
       "      <th>bikeid</th>\n",
       "      <th>tripduration</th>\n",
       "      <th>from_station_id</th>\n",
       "      <th>from_station_name</th>\n",
       "      <th>to_station_id</th>\n",
       "      <th>to_station_name</th>\n",
       "      <th>usertype</th>\n",
       "      <th>gender</th>\n",
       "      <th>birthyear</th>\n",
       "    </tr>\n",
       "  </thead>\n",
       "  <tbody>\n",
       "    <tr>\n",
       "      <th>0</th>\n",
       "      <td>9379901</td>\n",
       "      <td>2016-04-30 23:59:00</td>\n",
       "      <td>5/1/2016 0:11</td>\n",
       "      <td>21</td>\n",
       "      <td>733</td>\n",
       "      <td>123</td>\n",
       "      <td>California Ave &amp; Milwaukee Ave</td>\n",
       "      <td>374</td>\n",
       "      <td>Western Ave &amp; Walton St</td>\n",
       "      <td>Subscriber</td>\n",
       "      <td>Male</td>\n",
       "      <td>1982.0</td>\n",
       "    </tr>\n",
       "    <tr>\n",
       "      <th>1</th>\n",
       "      <td>9379900</td>\n",
       "      <td>2016-04-30 23:58:00</td>\n",
       "      <td>5/1/2016 0:07</td>\n",
       "      <td>3583</td>\n",
       "      <td>556</td>\n",
       "      <td>349</td>\n",
       "      <td>Halsted St &amp; Wrightwood Ave</td>\n",
       "      <td>165</td>\n",
       "      <td>Clark St &amp; Grace St</td>\n",
       "      <td>Subscriber</td>\n",
       "      <td>Male</td>\n",
       "      <td>1991.0</td>\n",
       "    </tr>\n",
       "    <tr>\n",
       "      <th>2</th>\n",
       "      <td>9379899</td>\n",
       "      <td>2016-04-30 23:58:00</td>\n",
       "      <td>5/1/2016 0:02</td>\n",
       "      <td>4557</td>\n",
       "      <td>253</td>\n",
       "      <td>59</td>\n",
       "      <td>Wabash Ave &amp; Roosevelt Rd</td>\n",
       "      <td>273</td>\n",
       "      <td>Michigan Ave &amp; 18th St</td>\n",
       "      <td>Subscriber</td>\n",
       "      <td>Male</td>\n",
       "      <td>1984.0</td>\n",
       "    </tr>\n",
       "    <tr>\n",
       "      <th>3</th>\n",
       "      <td>9379898</td>\n",
       "      <td>2016-04-30 23:54:00</td>\n",
       "      <td>5/1/2016 0:08</td>\n",
       "      <td>2443</td>\n",
       "      <td>802</td>\n",
       "      <td>289</td>\n",
       "      <td>Wells St &amp; Concord Ln</td>\n",
       "      <td>199</td>\n",
       "      <td>Wabash Ave &amp; Grand Ave</td>\n",
       "      <td>Subscriber</td>\n",
       "      <td>Male</td>\n",
       "      <td>1978.0</td>\n",
       "    </tr>\n",
       "    <tr>\n",
       "      <th>4</th>\n",
       "      <td>9379897</td>\n",
       "      <td>2016-04-30 23:52:00</td>\n",
       "      <td>5/1/2016 0:11</td>\n",
       "      <td>50</td>\n",
       "      <td>1146</td>\n",
       "      <td>239</td>\n",
       "      <td>Western Ave &amp; Leland Ave</td>\n",
       "      <td>227</td>\n",
       "      <td>Southport Ave &amp; Waveland Ave</td>\n",
       "      <td>Customer</td>\n",
       "      <td>NaN</td>\n",
       "      <td>NaN</td>\n",
       "    </tr>\n",
       "  </tbody>\n",
       "</table>\n",
       "</div>"
      ],
      "text/plain": [
       "   trip_id           starttime       stoptime  bikeid  tripduration  \\\n",
       "0  9379901 2016-04-30 23:59:00  5/1/2016 0:11      21           733   \n",
       "1  9379900 2016-04-30 23:58:00  5/1/2016 0:07    3583           556   \n",
       "2  9379899 2016-04-30 23:58:00  5/1/2016 0:02    4557           253   \n",
       "3  9379898 2016-04-30 23:54:00  5/1/2016 0:08    2443           802   \n",
       "4  9379897 2016-04-30 23:52:00  5/1/2016 0:11      50          1146   \n",
       "\n",
       "   from_station_id               from_station_name  to_station_id  \\\n",
       "0              123  California Ave & Milwaukee Ave            374   \n",
       "1              349     Halsted St & Wrightwood Ave            165   \n",
       "2               59       Wabash Ave & Roosevelt Rd            273   \n",
       "3              289           Wells St & Concord Ln            199   \n",
       "4              239        Western Ave & Leland Ave            227   \n",
       "\n",
       "                to_station_name    usertype gender  birthyear  \n",
       "0       Western Ave & Walton St  Subscriber   Male     1982.0  \n",
       "1           Clark St & Grace St  Subscriber   Male     1991.0  \n",
       "2        Michigan Ave & 18th St  Subscriber   Male     1984.0  \n",
       "3        Wabash Ave & Grand Ave  Subscriber   Male     1978.0  \n",
       "4  Southport Ave & Waveland Ave    Customer    NaN        NaN  "
      ]
     },
     "metadata": {},
     "output_type": "display_data"
    },
    {
     "name": "stdout",
     "output_type": "stream",
     "text": [
      "\n",
      "\n",
      "<class 'pandas.core.frame.DataFrame'>\n",
      "RangeIndex: 535 entries, 0 to 534\n",
      "Data columns (total 6 columns):\n",
      "id             535 non-null int64\n",
      "name           535 non-null object\n",
      "latitude       535 non-null float64\n",
      "longitude      535 non-null float64\n",
      "dpcapacity     535 non-null int64\n",
      "online_date    535 non-null object\n",
      "dtypes: float64(2), int64(2), object(2)\n",
      "memory usage: 25.1+ KB\n",
      "None\n"
     ]
    },
    {
     "data": {
      "text/html": [
       "<div>\n",
       "<table border=\"1\" class=\"dataframe\">\n",
       "  <thead>\n",
       "    <tr style=\"text-align: right;\">\n",
       "      <th></th>\n",
       "      <th>id</th>\n",
       "      <th>name</th>\n",
       "      <th>latitude</th>\n",
       "      <th>longitude</th>\n",
       "      <th>dpcapacity</th>\n",
       "      <th>online_date</th>\n",
       "    </tr>\n",
       "  </thead>\n",
       "  <tbody>\n",
       "    <tr>\n",
       "      <th>0</th>\n",
       "      <td>456</td>\n",
       "      <td>2112 W Peterson Ave</td>\n",
       "      <td>41.991178</td>\n",
       "      <td>-87.683593</td>\n",
       "      <td>15</td>\n",
       "      <td>5/12/2015</td>\n",
       "    </tr>\n",
       "    <tr>\n",
       "      <th>1</th>\n",
       "      <td>101</td>\n",
       "      <td>63rd St Beach</td>\n",
       "      <td>41.781016</td>\n",
       "      <td>-87.576120</td>\n",
       "      <td>23</td>\n",
       "      <td>4/20/2015</td>\n",
       "    </tr>\n",
       "    <tr>\n",
       "      <th>2</th>\n",
       "      <td>109</td>\n",
       "      <td>900 W Harrison St</td>\n",
       "      <td>41.874675</td>\n",
       "      <td>-87.650019</td>\n",
       "      <td>19</td>\n",
       "      <td>8/6/2013</td>\n",
       "    </tr>\n",
       "    <tr>\n",
       "      <th>3</th>\n",
       "      <td>21</td>\n",
       "      <td>Aberdeen St &amp; Jackson Blvd</td>\n",
       "      <td>41.877726</td>\n",
       "      <td>-87.654787</td>\n",
       "      <td>15</td>\n",
       "      <td>6/21/2013</td>\n",
       "    </tr>\n",
       "    <tr>\n",
       "      <th>4</th>\n",
       "      <td>80</td>\n",
       "      <td>Aberdeen St &amp; Monroe St</td>\n",
       "      <td>41.880456</td>\n",
       "      <td>-87.653929</td>\n",
       "      <td>19</td>\n",
       "      <td>6/26/2013</td>\n",
       "    </tr>\n",
       "  </tbody>\n",
       "</table>\n",
       "</div>"
      ],
      "text/plain": [
       "    id                        name   latitude  longitude  dpcapacity  \\\n",
       "0  456         2112 W Peterson Ave  41.991178 -87.683593          15   \n",
       "1  101               63rd St Beach  41.781016 -87.576120          23   \n",
       "2  109           900 W Harrison St  41.874675 -87.650019          19   \n",
       "3   21  Aberdeen St & Jackson Blvd  41.877726 -87.654787          15   \n",
       "4   80     Aberdeen St & Monroe St  41.880456 -87.653929          19   \n",
       "\n",
       "  online_date  \n",
       "0   5/12/2015  \n",
       "1   4/20/2015  \n",
       "2    8/6/2013  \n",
       "3   6/21/2013  \n",
       "4   6/26/2013  "
      ]
     },
     "metadata": {},
     "output_type": "display_data"
    }
   ],
   "source": [
    "def load_divvy_data():\n",
    "    # load trip data from multiple csv files\n",
    "    dfs = []\n",
    "    for fn in glob.iglob('divvy_data/Divvy_Trips*.csv'):\n",
    "        dfs.append(pd.read_csv(fn))\n",
    "    trips = pd.concat(dfs)\n",
    "    \n",
    "    # load stations from csv\n",
    "    stations = pd.read_csv('divvy_data/Divvy_Stations_2016_Q1Q2.csv')\n",
    "    return df\n",
    "\n",
    "def load_station_data():\n",
    "    df = pd.read_csv('divvy_data/Divvy_Stations_2016_Q1Q2.csv')\n",
    "    return df\n",
    "\n",
    "\n",
    "trips = load_divvy_data()\n",
    "stations = load_station_data()\n",
    "\n",
    "print trips.info()\n",
    "display(trips.head())\n",
    "\n",
    "print '\\n\\n', stations.info()\n",
    "display(stations.head())"
   ]
  },
  {
   "cell_type": "markdown",
   "metadata": {},
   "source": [
    "# What is Operation Chaining???"
   ]
  },
  {
   "cell_type": "markdown",
   "metadata": {},
   "source": [
    "Applying multiple methods of the pandas class in a linear fashion. Let's begin by cutting our customer base by age, and seeing which segments use divvy the most:\n",
    "1. First Find Customer Age\n",
    "2. Cut customers into bins based on age\n",
    "3. Look at how many rides our customers took"
   ]
  },
  {
   "cell_type": "markdown",
   "metadata": {},
   "source": [
    "Without operation chaining:"
   ]
  },
  {
   "cell_type": "code",
   "execution_count": 27,
   "metadata": {
    "collapsed": false
   },
   "outputs": [
    {
     "data": {
      "text/plain": [
       "array([15, 20, 25, 30, 35, 40, 45, 50, 55, 60, 65, 70, 75])"
      ]
     },
     "execution_count": 27,
     "metadata": {},
     "output_type": "execute_result"
    }
   ],
   "source": [
    "np.arange(15, 80, 5)"
   ]
  },
  {
   "cell_type": "code",
   "execution_count": 59,
   "metadata": {
    "collapsed": false,
    "scrolled": false
   },
   "outputs": [
    {
     "data": {
      "image/png": "[encoded data removed]",
      "text/plain": [
       "<matplotlib.figure.Figure at 0x11c310b10>"
      ]
     },
     "metadata": {},
     "output_type": "display_data"
    }
   ],
   "source": [
    "t = trips.copy()\n",
    "t['age'] = 2016 - t['birthyear']\n",
    "t['age_cut'] = pd.cut(t['age'], bins=np.arange(15, 80, 5))\n",
    "t['age_cut'].value_counts().sort_index().plot(kind='bar')\n",
    "plt.show()"
   ]
  },
  {
   "cell_type": "code",
   "execution_count": 79,
   "metadata": {
    "collapsed": false
   },
   "outputs": [
    {
     "data": {
      "image/png": "[encoded data removed]",
      "text/plain": [
       "<matplotlib.figure.Figure at 0x11bacea50>"
      ]
     },
     "metadata": {},
     "output_type": "display_data"
    }
   ],
   "source": [
    "(\n",
    "    trips\n",
    "    .assign(age=lambda df: 2016 - df.birthyear)\n",
    "    .assign(age_cut=lambda df: pd.cut(df.age, bins=np.arange(15, 80, 5)))\n",
    "    .loc[:, 'age_cut']\n",
    "    .value_counts()\n",
    "    .sort_index()\n",
    ").plot(kind='bar')\n",
    "\n",
    "plt.show()"
   ]
  },
  {
   "cell_type": "code",
   "execution_count": 105,
   "metadata": {
    "collapsed": false
   },
   "outputs": [
    {
     "data": {
      "image/png": "[encoded data removed]",
      "text/plain": [
       "<matplotlib.figure.Figure at 0x11b7bd550>"
      ]
     },
     "metadata": {},
     "output_type": "display_data"
    }
   ],
   "source": [
    "(\n",
    "    trips\n",
    "    .loc[:, ['from_station_name', 'to_station_name']]\n",
    "    .stack()\n",
    "    .value_counts()\n",
    "    .head(10)\n",
    ").plot(kind='barh')\n",
    "\n",
    "plt.show()"
   ]
  }
 ],
 "metadata": {
  "kernelspec": {
   "display_name": "Python 2",
   "language": "python",
   "name": "python2"
  },
  "language_info": {
   "codemirror_mode": {
    "name": "ipython",
    "version": 2
   },
   "file_extension": ".py",
   "mimetype": "text/x-python",
   "name": "python",
   "nbconvert_exporter": "python",
   "pygments_lexer": "ipython2",
   "version": "2.7.9"
  },
  "toc": {
   "toc_cell": false,
   "toc_number_sections": true,
   "toc_threshold": 6,
   "toc_window_display": false
  }
 },
 "nbformat": 4,
 "nbformat_minor": 0
}
