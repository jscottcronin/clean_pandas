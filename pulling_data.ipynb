{
 "cells": [
  {
   "cell_type": "code",
   "execution_count": 33,
   "metadata": {
    "collapsed": true
   },
   "outputs": [],
   "source": [
    "import pandas as pd\n",
    "import numpy as np\n",
    "import requests\n",
    "import matplotlib.pyplot as plt\n",
    "import seaborn as sns\n",
    "import json\n",
    "from bs4 import BeautifulSoup as bs4\n",
    "from IPython.display import display, HTML\n",
    "\n",
    "sns.set_context('notebook', font_scale=1.6)\n",
    "%matplotlib inline"
   ]
  },
  {
   "cell_type": "code",
   "execution_count": 20,
   "metadata": {
    "collapsed": false
   },
   "outputs": [],
   "source": [
    "def scrape_craiglist_page(page):\n",
    "    url = 'http://chicago.craigslist.org/search/chc/apa'\n",
    "    params = {'bedrooms': 2, 's': page}\n",
    "    r = requests.get(url, params=params)\n",
    "    html = bs4(r.text, 'html.parser')\n",
    "    apts = html.find_all('p', attrs={'class': 'row'})\n",
    "    return apts\n",
    "\n",
    "    \n",
    "def find_size_and_brs(size):\n",
    "    split = size.strip('/- ').split(' - ')\n",
    "    if len(split) == 2:\n",
    "        n_brs = split[0].replace('br', '')\n",
    "        this_size = split[1].replace('ft2', '')\n",
    "    elif 'br' in split[0]:\n",
    "        # It's the n_bedrooms\n",
    "        n_brs = split[0].replace('br', '')\n",
    "        this_size = np.nan\n",
    "    elif 'ft2' in split[0]:\n",
    "        # It's the size\n",
    "        this_size = split[0].replace('ft2', '')\n",
    "        n_brs = np.nan\n",
    "    return float(this_size), float(n_brs)\n",
    "\n",
    "\n",
    "def find_prices(results):\n",
    "    prices = []\n",
    "    for rw in results:\n",
    "        price = rw.find('span', {'class': 'price'})\n",
    "        if price is not None:\n",
    "            price = float(price.text.strip('$'))\n",
    "        else:\n",
    "            price = np.nan\n",
    "        prices.append(price)\n",
    "    return prices\n",
    "\n",
    "\n",
    "def find_times(results):\n",
    "    times = []\n",
    "    for rw in apts:\n",
    "        if time is not None:\n",
    "            time = time['datetime']\n",
    "            time = pd.to_datetime(time)\n",
    "        else:\n",
    "            time = np.nan\n",
    "        times.append(time)\n",
    "    return times"
   ]
  },
  {
   "cell_type": "code",
   "execution_count": 21,
   "metadata": {
    "collapsed": true
   },
   "outputs": [],
   "source": [
    "results = []\n",
    "pages = np.arange(0, 300, 100)\n",
    "\n",
    "for page in pages:\n",
    "    apts = scrape_craiglist_page(page)\n",
    "\n",
    "    # Find the size of all entries\n",
    "    size_text = [rw.findAll(attrs={'class': 'housing'})[0].text\n",
    "                 for rw in apts]\n",
    "    sizes_brs = [find_size_and_brs(stxt) for stxt in size_text]\n",
    "    sizes, n_brs = zip(*sizes_brs)  # This unzips into 2 vectors\n",
    "\n",
    "    # Find the title and link\n",
    "    title = [rw.find('a', attrs={'class': 'hdrlnk'}).text\n",
    "                  for rw in apts]\n",
    "    links = [rw.find('a', attrs={'class': 'hdrlnk'})['href']\n",
    "             for rw in apts]\n",
    "\n",
    "    # Find the time\n",
    "    time = [pd.to_datetime(rw.find('time')['datetime']) for rw in apts]\n",
    "    price = find_prices(apts)\n",
    "\n",
    "    # We'll create a dataframe to store all the data\n",
    "    data = np.array([time, price, sizes, n_brs, title, links])\n",
    "    col_names = ['time', 'price', 'size', 'brs', 'title', 'link']\n",
    "    df = pd.DataFrame(data.T, columns=col_names)\n",
    "    df = df.set_index('time')\n",
    "\n",
    "    # Add the location variable to all entries\n",
    "    results.append(df)\n",
    "    \n",
    "results = pd.concat(results, axis=0)\n",
    "results.to_json('./data/chicago_craiglist.json', orient='records')"
   ]
  }
 ],
 "metadata": {
  "kernelspec": {
   "display_name": "Python 2",
   "language": "python",
   "name": "python2"
  },
  "language_info": {
   "codemirror_mode": {
    "name": "ipython",
    "version": 2
   },
   "file_extension": ".py",
   "mimetype": "text/x-python",
   "name": "python",
   "nbconvert_exporter": "python",
   "pygments_lexer": "ipython2",
   "version": "2.7.9"
  },
  "toc": {
   "toc_cell": false,
   "toc_number_sections": true,
   "toc_threshold": 6,
   "toc_window_display": false
  }
 },
 "nbformat": 4,
 "nbformat_minor": 0
}
